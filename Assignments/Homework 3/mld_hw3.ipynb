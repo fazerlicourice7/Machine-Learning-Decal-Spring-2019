{
 "cells": [
  {
   "cell_type": "markdown",
   "metadata": {},
   "source": [
    "# Machine Learning at Berkeley: Machine Learning Decal\n",
    "## Homework Three: Unsupervised Learning and Autoencoders\n",
    "\n",
    "Release Date: February 27th, 2019\n",
    "Due Date: March 11th, 2019\n",
    "Contributing Authors: Brandon Trabucco\n",
    "\n",
    "The goal of this homework is to familiarize you with various unsupervised learning and dimensionality reduction algorithms that are commonly used when handling large datasets. In particular, you will implement:\n",
    "\n",
    "* Extracting The Dataset\n",
    "* Principal Component Analysis\n",
    "* A Linear Autoencoder\n",
    "* A Convolutional Autoencoder\n",
    "* (Optional) A Variational Autoencoder (VAE for short)\n",
    "\n",
    "In addition to implementing these algorithms, you will use these algorithms to interpolate between existing data points, and extrapolate to new data points. Since images have nice visualizations, this homework shall use a miniature version of the CelebA (S. Yang et al. 2015) dataset that contains 5000 cropped images of celebrity faces. Feel free to download the full dataset after finishing the homework and tinkering with your models.\n",
    "\n",
    "S. Yang, P. Luo, C. C. Loy, and X. Tang, \"From Facial Parts Responses to Face Detection: A Deep Learning Approach\", in IEEE International Conference on Computer Vision (ICCV), 2015"
   ]
  },
  {
   "cell_type": "code",
   "execution_count": 2,
   "metadata": {},
   "outputs": [],
   "source": [
    "%%capture\n",
    "# IMPORTANT: you must have all of these repositories properly installed on your machine to complete tis homework.\n",
    "# you must also have ffmpeg installed. You may find the binaries at https://www.ffmpeg.org/download.html\n",
    "# Make sure you add the directories that contain the ffmpeg binaries to your path, reinstall matplotlib afterwards\n",
    "import torch\n",
    "import torchvision\n",
    "import torch.nn.functional as F\n",
    "import glob\n",
    "import os\n",
    "from PIL import Image\n",
    "import numpy as np\n",
    "import matplotlib\n",
    "import matplotlib.pyplot as plt\n",
    "import matplotlib.animation as animation\n",
    "if not \"ffmpeg\" in matplotlib.animation.writers.list():\n",
    "    print(\"WARNING!!! You must add FFMPEG to your path before you can use the animations in this homework.\")\n",
    "from IPython.display import HTML, display"
   ]
  },
  {
   "cell_type": "markdown",
   "metadata": {},
   "source": [
    "## Section One: Extracting The Dataset\n",
    "\n",
    "In this section, you will extract the folder of images into a matrix $X \\in \\mathcal{R}^{N \\times D}$ where the number of rows $N$ corresponds to the number of images in the dataset (5000 in total), and the number of features $D$ corresponds to the RGB values of every pixel in every image (32 * 32 * 3 = 3072 in this case)."
   ]
  },
  {
   "cell_type": "code",
   "execution_count": 3,
   "metadata": {},
   "outputs": [],
   "source": [
    "def extract_dataset(path_to_images, output_height, output_width, path_to_matrix):\n",
    "    \"\"\"Loads each image into memory, processes each image, and saves a matrix to the disk.\n",
    "    Args:\n",
    "        path_to_images: string, the path to the directory containing image files.\n",
    "        output_height: integer, the height to scale each image to.\n",
    "        output_width: integer, the width to scale each image to.\n",
    "        path_to_matrix: string, the path where the matrix will be saved.\n",
    "    \"\"\"\n",
    "    all_matching_files = glob.glob(os.path.join(path_to_images, \"*.jpg\"))\n",
    "    X = np.zeros([len(all_matching_files), output_height * output_width * 3])\n",
    "    for i, file in enumerate(all_matching_files):\n",
    "        # TODO: fill in this section to accomplish the following.\n",
    "        # 1) load the image with Image.open specified by its file path from the disk\n",
    "        # 2) resize that image to be a [output_width, output_height] numpy array\n",
    "        # 3) perform a row-major flatten of the array\n",
    "        # 3) scale the elements of the array to be in the range [-1, 1]\n",
    "        # 4) assign the arrya to the ith column of data matrix X\n",
    "        # BEGIN YOUR CODE\n",
    "        image = Image.open(file)\n",
    "        image = image.resize((output_width, output_height))\n",
    "        image.load()\n",
    "        image = np.asarray(image, dtype=np.float32).reshape([output_height * output_width * 3])        \n",
    "        #image = image.flatten()\n",
    "        image = (image - 127) / 127\n",
    "        X[i] = image\n",
    "        # END YOUR CODE\n",
    "    np.save(os.path.join(path_to_matrix, \"dataset.npy\"), X)"
   ]
  },
  {
   "cell_type": "code",
   "execution_count": 4,
   "metadata": {},
   "outputs": [],
   "source": [
    "def load_dataset(path_to_matrix):\n",
    "    \"\"\"Loads a matrix containing processed images into the memory.\n",
    "    Args:\n",
    "        path_to_matrix: string, the path where the matrix was saved.\n",
    "    Returns:\n",
    "        a numpy matrix with 5000 rows (one per image) and 3072 columns.\n",
    "    \"\"\"\n",
    "    return np.load(os.path.join(path_to_matrix, \"dataset.npy\"))"
   ]
  },
  {
   "cell_type": "code",
   "execution_count": 5,
   "metadata": {},
   "outputs": [],
   "source": [
    "def show_image(flat_image_vector, output_height, output_width):\n",
    "    \"\"\"Displays an image on jupyter notebook using matplotlib imshow.\n",
    "    Args:\n",
    "        flat_image_vector: a np.float32 vector with D = 3072 elements.\n",
    "        output_height: integer, the height to reshape the image to.\n",
    "        output_width: integer, the width to reshape the image to.\n",
    "    \"\"\"\n",
    "    # TODO: fill in this section to accomplish the following.\n",
    "    # 1) perform a row-major reshape from a flattened array to a [output_height, output_width, 3] tensor\n",
    "    # 2) scale the elements of the array to be in the range [0, 1]\n",
    "    # 3) render the image using matplotlib imshow(...)\n",
    "    # 4) show() and close() the plot\n",
    "    # BEGIN YOUR CODE\n",
    "    image_tensor = np.reshape(flat_image_vector, (output_height, output_width, 3))\n",
    "    image_tensor = np.interp(image_tensor, (image_tensor.min(), image_tensor.max()), (0,1))\n",
    "    #image_tensor += 1\n",
    "    #image_tensor /= 2\n",
    "    plt.imshow(image_tensor)\n",
    "    plt.show()\n",
    "    plt.close()\n",
    "    # END YOUR CODE"
   ]
  },
  {
   "cell_type": "code",
   "execution_count": 6,
   "metadata": {},
   "outputs": [],
   "source": [
    "# TODO: fill in this section to accomplish the following.\n",
    "# 1) call the extract_dataset function with the appropriate paths\n",
    "# 2) assign the height 32 and the width 32\n",
    "# BEGIN YOUR CODE\n",
    "extract_dataset(\"../../../celeba/\", 32, 32, \"../../../\")\n",
    "# END YOUR CODE"
   ]
  },
  {
   "cell_type": "code",
   "execution_count": 7,
   "metadata": {},
   "outputs": [
    {
     "name": "stdout",
     "output_type": "stream",
     "text": [
      "A matrix with 5000 images and 3072 features per image was loaded.\n"
     ]
    }
   ],
   "source": [
    "X = None\n",
    "# TODO: fill in this section to accomplish the following.\n",
    "# 1) call the load_dataset function with the appropriate path\n",
    "# 2) assign the result to a data matrix named X\n",
    "# BEGIN YOUR CODE\n",
    "X = load_dataset(\"../../../\")\n",
    "# END YOUR CODE\n",
    "print(\"A matrix with {0} images and {1} features per image was loaded.\".format(*X.shape))"
   ]
  },
  {
   "cell_type": "code",
   "execution_count": 8,
   "metadata": {},
   "outputs": [
    {
     "data": {
      "image/png": "[encoded data removed]",
      "text/plain": [
       "<Figure size 432x288 with 1 Axes>"
      ]
     },
     "metadata": {
      "needs_background": "light"
     },
     "output_type": "display_data"
    }
   ],
   "source": [
    "# TODO: fill in this section to accomplish the following.\n",
    "# 1) call the show_image function using a single row from the matrix X\n",
    "# BEGIN YOUR CODE\n",
    "show_image(X[0, :], 32, 32)\n",
    "# END YOUR CODE"
   ]
  },
  {
   "cell_type": "markdown",
   "metadata": {},
   "source": [
    "## Section Two: Principal Component Analysis\n",
    "\n",
    "In this section, you will learn about Principal Component Analysis from an optimization perspective. You will then implement PCA to learn the $K$ principal components from the data matrix $X$. You will then use these principal components to interpolate between random rows of X. Finally, you will sample points in a lower dimensional subspace and invert PCA to generate new images of faces."
   ]
  },
  {
   "cell_type": "markdown",
   "metadata": {},
   "source": [
    "The rows of $X$ lives in the space of $\\mathcal{R}^{D}$. We define $D$ to be 3072 for the remainder of this homework. The principal components of $X$ provide a sequence of the best linear approximations to X in a lower dimensional subspace $\\mathcal{R}^{Q}$ where the rank of the subspace $Q \\leq D$ is no larger than the rank of the space that contains $X$. Consider a function of a vector $\\lambda$ in $\\mathcal{R}^{Q}$.\n",
    "\n",
    "$$ f(\\lambda) = \\mu + V_{Q} \\lambda $$\n",
    "\n",
    "This function defines a linear transformation from the space of $\\mathcal{R}^{Q}$ to the space of $\\mathcal{R}^{D}$. There are two important paraneters in this formulation: namely $\\mu$ and $V_{Q}$. The vector $\\mu$ is a position in the space of $\\mathcal{R}^{D}$. The matrix $V_{Q} \\in \\mathcal{R}^{D \\times Q}$ is a unitary matrix that maps the vector $\\lambda$ from the subspace $\\mathcal{R}^{Q}$ to the space of the data $\\mathcal{R}^{D}$. The goal of PCA is to minimize the following reconstruction error.\n",
    "\n",
    "$$ \\min_{\\mu, V_{Q}, \\{ \\lambda_{i}\\} } \\sum_{i = 1}^{N} || x_{i} - \\mu - V_{Q} \\lambda_{i} ||_{2}^{2} $$\n",
    "\n",
    "Where the vector $x_{i}$ is the row in position i from the data matrix $X$, and the vector $\\lambda_{i}$ represent the best approximation of the vector $x_{i}$ in the column space of the matrix $V_{Q}$. The other parameters have been previously defined, and are the same. We take this objective, and we optimize for $\\mu$ and $\\{ \\lambda_{i}\\}$.\n",
    "\n",
    "$$ \\mu = \\frac{1}{N} \\sum_{i = 1}^{N} x_{i} $$\n",
    "$$ \\lambda_{i} = V_{Q}^{T} ( x_{i} - \\mu ) $$\n",
    "\n",
    "The optimization objective now ammounts to solving for the optimal orthonormal matrix $V_{Q}$ that minimizes reconstruction error.\n",
    "\n",
    "$$ \\min_{V_{Q}} \\sum_{i = 1}^{N} || x_{i} - \\frac{1}{N} \\sum_{i = 1}^{N} x_{i} - V_{Q} V_{Q}^{T} ( x_{i} - \\frac{1}{N} \\sum_{i = 1}^{N} x_{i} ) ||_{2}^{2} $$\n",
    "\n",
    "The matrix resulting from $V_{Q} V_{Q}^{T}$ can be imagined a projection that maps each data point $x_{i}$ onto the best rank $Q$ approximation. See that we are subtracting the mean from each data point. If we assume each data point already has zero mean, the objective simplifies.\n",
    "\n",
    "$$ \\frac{1}{N} \\sum_{i = 1}^{N} x_{i} = 0 \\implies \\min_{V_{Q}} \\sum_{i = 1}^{N} || x_{i} - V_{Q} V_{Q}^{T} x_{i} ||_{2}^{2} $$\n",
    "\n",
    "The solution may be obtained using Singular Value Decomposition. In particular, we can express the data matrix by its SVD $X = U \\Sigma V^{T}$. Here, $U$ is an $N \\times D$ orthogonal matrix. The matrix $U \\Sigma$ represents the principal components of $X$, the directions with highest variance. The solution for $V_{Q}$ is simply to take the first $Q$ columns of the matrix $V$. This is left as an exercise for the reader and is not required."
   ]
  },
  {
   "cell_type": "code",
   "execution_count": 9,
   "metadata": {},
   "outputs": [],
   "source": [
    "U, S, V_T = None, None, None\n",
    "# TODO: fill in this section to accomplish the following.\n",
    "# 1) using the function np.linalg.svd, calculate the singular value decomposition of the data matrix X\n",
    "# 2) assign the SVD results to three matrices: U, S, V_T\n",
    "# BEGIN YOUR CODE\n",
    "U, S, V_T = np.linalg.svd(X)\n",
    "# END YOUR CODE"
   ]
  },
  {
   "cell_type": "code",
   "execution_count": 10,
   "metadata": {},
   "outputs": [
    {
     "name": "stdout",
     "output_type": "stream",
     "text": [
      "The variances along the first 256 principal components are: [1400.55737671  896.74130096  557.65750875  501.15021958  442.82439485\n",
      "  382.53117989  364.01446985  348.38646398  288.48813702  279.92680562\n",
      "  270.32482819  254.73803428  246.78940925  221.55841311  211.09873657\n",
      "  207.30438793  192.22276195  184.38524853  178.56125891  173.49592847\n",
      "  169.65656769  154.73954172  151.64613316  148.36561694  141.95923879\n",
      "  137.01974824  135.41728677  132.26052584  128.79801518  127.93181276\n",
      "  125.73132927  124.39058534  123.11059582  122.62173192  118.41125216\n",
      "  117.37436435  113.21144638  111.51583421  109.8207836   107.64045905\n",
      "  105.3906873   103.96102544  101.59940159  100.38176391   99.54615961\n",
      "   96.29722762   95.14088336   93.62961689   93.05066198   91.03197108\n",
      "   90.29209129   89.71981772   88.88537842   88.12777693   86.78812425\n",
      "   85.69469329   84.84581543   82.55814159   82.15712737   80.59977135\n",
      "   80.23039139   79.30100909   78.13240358   77.66356002   76.72772974\n",
      "   76.37680045   75.4503283    75.22642555   74.76152334   73.96846819\n",
      "   72.92409417   71.71425737   71.24442162   70.34888919   70.07657542\n",
      "   69.2442398    68.97439748   67.48941443   67.14646528   66.68979061\n",
      "   66.06534324   65.74589563   65.02738302   64.75778201   64.5061308\n",
      "   64.1176258    63.63096719   62.90811164   62.67085623   62.01301567\n",
      "   61.45193504   61.00554716   60.77703798   60.15038007   59.84873226\n",
      "   59.71813122   59.31963683   59.21085266   59.03585432   58.36907542\n",
      "   58.31149338   57.65690935   57.29694094   57.06310428   56.76505818\n",
      "   56.47318311   56.00341334   55.76586661   55.34248805   54.94440029\n",
      "   54.68524196   54.06122328   53.81596735   53.70287446   53.59001762\n",
      "   52.82027835   52.53878046   52.2933182    52.02578924   51.76517921\n",
      "   51.48596108   51.0019337    50.75725792   50.40550752   50.12104287\n",
      "   50.03243055   49.72469028   49.537292     49.37392267   48.9487959\n",
      "   48.73437156   48.39541648   48.24356264   48.00656987   47.95569934\n",
      "   47.86867135   47.71614418   47.22000306   47.09244438   46.85009286\n",
      "   46.64076946   46.45191521   46.22390699   46.04853162   46.02549979\n",
      "   45.67685753   45.55243379   45.4919194    45.42833863   45.2267845\n",
      "   45.11584668   44.71962152   44.60200801   44.49740602   44.06416716\n",
      "   43.9982825    43.78529714   43.62275585   43.48975826   43.43724865\n",
      "   43.31614434   43.11995457   42.91931443   42.73932874   42.51505249\n",
      "   42.32092987   42.24737235   41.96666475   41.86205125   41.66191919\n",
      "   41.55600122   41.49819609   41.21777172   41.16262621   40.99666257\n",
      "   40.86379325   40.64908291   40.5975648    40.43009981   40.34213716\n",
      "   40.29005731   40.14774088   39.86050981   39.75886371   39.64497284\n",
      "   39.4987995    39.34244169   39.12218593   39.04584516   38.9363649\n",
      "   38.84855956   38.78490397   38.71493552   38.56567297   38.46627392\n",
      "   38.32010887   38.2446468    38.06550364   37.97912776   37.75325999\n",
      "   37.63572209   37.59254761   37.49290098   37.37314722   37.23971048\n",
      "   37.20872521   37.11459285   37.06059604   36.8779127    36.79968015\n",
      "   36.59553797   36.5631193    36.43587895   36.41492915   36.25114555\n",
      "   36.06068791   36.02328748   35.89576821   35.82648137   35.79249474\n",
      "   35.6144634    35.56024876   35.51071032   35.41482292   35.35955428\n",
      "   35.22834537   35.0510744    35.04604992   34.89491315   34.69751856\n",
      "   34.65268582   34.55732852   34.47449104   34.37974481   34.28655932\n",
      "   34.19818687   34.12867662   34.06032789   33.97840653   33.95071739\n",
      "   33.83096985   33.74941925   33.69478451   33.56523859   33.54216975\n",
      "   33.40844711   33.33533572   33.24441573   33.19920686   33.09058502\n",
      "   32.99987398   32.95740936   32.87416638   32.81164536   32.75117804\n",
      "   32.66483973]\n",
      "The first 256 principal components are: [[-0.00241149  0.02039855 -0.00051158 ... -0.00225114  0.00311229\n",
      "   0.00026858]\n",
      " [ 0.00755859 -0.00089658 -0.00295127 ...  0.02482625 -0.0072695\n",
      "  -0.00071968]\n",
      " [-0.00395179  0.01228788  0.01545751 ...  0.02437975 -0.01661624\n",
      "  -0.01709547]\n",
      " ...\n",
      " [ 0.00695771  0.01512255  0.00899533 ... -0.00262146 -0.04418589\n",
      "  -0.00497446]\n",
      " [-0.0107659   0.01964406  0.00433874 ...  0.00746583  0.00965013\n",
      "  -0.00035394]\n",
      " [-0.00770392  0.0141866   0.0569132  ... -0.0117921  -0.00184641\n",
      "  -0.01835487]]\n",
      "The first 256 right singular vectors are: [[-0.0235451   0.02491075 -0.00778631 ... -0.00526038 -0.03115106\n",
      "   0.01724685]\n",
      " [-0.02558246  0.02220271 -0.00790224 ... -0.01647977 -0.01528896\n",
      "   0.01396448]\n",
      " [-0.02627786  0.01993618 -0.00835553 ... -0.00035036 -0.00669726\n",
      "   0.01252301]\n",
      " ...\n",
      " [-0.01202036 -0.00445318  0.01413568 ... -0.02076021  0.01927787\n",
      "   0.00502307]\n",
      " [-0.01443819 -0.01250724  0.0147313  ... -0.02400273  0.00429011\n",
      "   0.00197001]\n",
      " [-0.01521917 -0.01627267  0.01453407 ... -0.02037046 -0.00222976\n",
      "  -0.00332972]]\n"
     ]
    }
   ],
   "source": [
    "Q = 256\n",
    "principal_components = None\n",
    "V_Q = None\n",
    "# TODO: fill in this section to accomplish the following.\n",
    "# 1) define Q = 256 to be the rank of the lower dimensional subspace in which you shall embed the data points\n",
    "# 2) define variances to be the first Q singular values\n",
    "# 3) define principal_components to be the basis vectors corresponding to the first Q singular values\n",
    "# 4) define V_Q to be the matrix consisting of the first Q columns of V\n",
    "# BEGIN YOUR CODE\n",
    "\n",
    "variances = S[:Q] \n",
    "principal_components = U[:Q] #get basis vectors \n",
    "V = V_T.transpose()\n",
    "V_Q = V[:, :Q]\n",
    "# END YOUR CODE\n",
    "\n",
    "print(\"The variances along the first {0} principal components are: {1}\".format(Q, variances))\n",
    "print(\"The first {0} principal components are: {1}\".format(Q, principal_components))\n",
    "print(\"The first {0} right singular vectors are: {1}\".format(Q, V_Q))"
   ]
  },
  {
   "cell_type": "code",
   "execution_count": 11,
   "metadata": {},
   "outputs": [],
   "source": [
    "# TODO: fill in this section to accomplish the following.\n",
    "# 1) select a single row of the data matrix X\n",
    "# 2) project that row onto the rank-Q lower dimension subspace in R^D specified by the projection matrix (V_Q V_Q^T)\n",
    "# BEGIN YOUR CODE\n",
    "row0 = X[0,:]\n",
    "def projPCA(row):\n",
    "    multiplied_matrices = np.matmul(V_Q, V_Q.transpose())\n",
    "    projection = np.dot(multiplied_matrices, row)\n",
    "    return projection\n",
    "projection = projPCA(row0)\n",
    "\n",
    "# END YOUR CODE"
   ]
  },
  {
   "cell_type": "code",
   "execution_count": 12,
   "metadata": {},
   "outputs": [
    {
     "data": {
      "image/png": "[encoded data removed]",
      "text/plain": [
       "<Figure size 432x288 with 1 Axes>"
      ]
     },
     "metadata": {
      "needs_background": "light"
     },
     "output_type": "display_data"
    },
    {
     "data": {
      "image/png": "[encoded data removed]",
      "text/plain": [
       "<Figure size 432x288 with 1 Axes>"
      ]
     },
     "metadata": {
      "needs_background": "light"
     },
     "output_type": "display_data"
    }
   ],
   "source": [
    "# TODO: fill in this section to accomplish the following.\n",
    "# 1) display the original image using show_image with height 32 and width 32\n",
    "# 1) display the projected image using show_image with height 32 and width 32\n",
    "# BEGIN YOUR CODE\n",
    "show_image(X[0,:], 32, 32)\n",
    "show_image(projection, 32, 32)\n",
    "# END YOUR CODE"
   ]
  },
  {
   "cell_type": "markdown",
   "metadata": {},
   "source": [
    "### Comment on how well the best Q principal components reconstruct the image:\n",
    "[TODO: your response here]"
   ]
  },
  {
   "cell_type": "code",
   "execution_count": 13,
   "metadata": {},
   "outputs": [],
   "source": [
    "def latent_interpolation(z_one, z_two, reconstruction_function, output_height, output_width):\n",
    "    \"\"\"This function draws an interpolating animation from one image to another image in the latent space.\n",
    "    Args:\n",
    "        z_one: an np.float32 vector with Q elements.\n",
    "        z_two: an np.float32 vector with Q elements.\n",
    "        reconstruction_function: a function that takes in z_one or z_two and returns an np.float32 vector with D elements.\n",
    "        output_height: integer, the height to reshape each image to.\n",
    "        output_width: integer, the width to reshape each image to.\n",
    "    \"\"\"\n",
    "    fig = plt.figure()\n",
    "    im = None\n",
    "    im = plt.imshow(reconstruction_function(z_one).reshape([output_height, output_width, 3]) / 2.0 + 0.5, animated=True)\n",
    "    def updatefig(t):\n",
    "        alpha = (0.5 * np.cos(t) + 0.5)\n",
    "        im.set_array(reconstruction_function(z_one * alpha + z_two * (1.0 - alpha)).reshape([output_height, output_width, 3]) / 2.0 + 0.5)\n",
    "        return im,\n",
    "    display(HTML(animation.FuncAnimation(fig, updatefig, frames=np.linspace(0, 2*np.pi, 64), blit=True).to_html5_video()))\n",
    "    plt.close()"
   ]
  },
  {
   "cell_type": "code",
   "execution_count": 14,
   "metadata": {
    "scrolled": true
   },
   "outputs": [
    {
     "name": "stderr",
     "output_type": "stream",
     "text": [
      "Clipping input data to the valid range for imshow with RGB data ([0..1] for floats or [0..255] for integers).\n",
      "Clipping input data to the valid range for imshow with RGB data ([0..1] for floats or [0..255] for integers).\n"
     ]
    },
    {
     "ename": "RuntimeError",
     "evalue": "Requested MovieWriter (ffmpeg) not available",
     "output_type": "error",
     "traceback": [
      "\u001b[1;31m---------------------------------------------------------------------------\u001b[0m",
      "\u001b[1;31mKeyError\u001b[0m                                  Traceback (most recent call last)",
      "\u001b[1;32mc:\\users\\vamsh\\appdata\\local\\programs\\python\\python36\\lib\\site-packages\\matplotlib\\animation.py\u001b[0m in \u001b[0;36m__getitem__\u001b[1;34m(self, name)\u001b[0m\n\u001b[0;32m    160\u001b[0m         \u001b[1;32mtry\u001b[0m\u001b[1;33m:\u001b[0m\u001b[1;33m\u001b[0m\u001b[1;33m\u001b[0m\u001b[0m\n\u001b[1;32m--> 161\u001b[1;33m             \u001b[1;32mreturn\u001b[0m \u001b[0mself\u001b[0m\u001b[1;33m.\u001b[0m\u001b[0mavail\u001b[0m\u001b[1;33m[\u001b[0m\u001b[0mname\u001b[0m\u001b[1;33m]\u001b[0m\u001b[1;33m\u001b[0m\u001b[1;33m\u001b[0m\u001b[0m\n\u001b[0m\u001b[0;32m    162\u001b[0m         \u001b[1;32mexcept\u001b[0m \u001b[0mKeyError\u001b[0m\u001b[1;33m:\u001b[0m\u001b[1;33m\u001b[0m\u001b[1;33m\u001b[0m\u001b[0m\n",
      "\u001b[1;31mKeyError\u001b[0m: 'ffmpeg'",
      "\nDuring handling of the above exception, another exception occurred:\n",
      "\u001b[1;31mRuntimeError\u001b[0m                              Traceback (most recent call last)",
      "\u001b[1;32m<ipython-input-14-a72567baddcf>\u001b[0m in \u001b[0;36m<module>\u001b[1;34m\u001b[0m\n\u001b[0;32m     16\u001b[0m     \u001b[1;32mreturn\u001b[0m \u001b[0mreconstructed\u001b[0m\u001b[1;33m\u001b[0m\u001b[1;33m\u001b[0m\u001b[0m\n\u001b[0;32m     17\u001b[0m \u001b[1;33m\u001b[0m\u001b[0m\n\u001b[1;32m---> 18\u001b[1;33m \u001b[0mlatent_interpolation\u001b[0m\u001b[1;33m(\u001b[0m\u001b[0mproj1\u001b[0m\u001b[1;33m,\u001b[0m \u001b[0mproj2\u001b[0m\u001b[1;33m,\u001b[0m \u001b[0mreconstruction_function\u001b[0m\u001b[1;33m,\u001b[0m \u001b[1;36m32\u001b[0m\u001b[1;33m,\u001b[0m \u001b[1;36m32\u001b[0m\u001b[1;33m)\u001b[0m\u001b[1;33m\u001b[0m\u001b[1;33m\u001b[0m\u001b[0m\n\u001b[0m\u001b[0;32m     19\u001b[0m \u001b[1;31m# END YOUR CODE\u001b[0m\u001b[1;33m\u001b[0m\u001b[1;33m\u001b[0m\u001b[1;33m\u001b[0m\u001b[0m\n",
      "\u001b[1;32m<ipython-input-13-283ffb3341bb>\u001b[0m in \u001b[0;36mlatent_interpolation\u001b[1;34m(z_one, z_two, reconstruction_function, output_height, output_width)\u001b[0m\n\u001b[0;32m     15\u001b[0m         \u001b[0mim\u001b[0m\u001b[1;33m.\u001b[0m\u001b[0mset_array\u001b[0m\u001b[1;33m(\u001b[0m\u001b[0mreconstruction_function\u001b[0m\u001b[1;33m(\u001b[0m\u001b[0mz_one\u001b[0m \u001b[1;33m*\u001b[0m \u001b[0malpha\u001b[0m \u001b[1;33m+\u001b[0m \u001b[0mz_two\u001b[0m \u001b[1;33m*\u001b[0m \u001b[1;33m(\u001b[0m\u001b[1;36m1.0\u001b[0m \u001b[1;33m-\u001b[0m \u001b[0malpha\u001b[0m\u001b[1;33m)\u001b[0m\u001b[1;33m)\u001b[0m\u001b[1;33m.\u001b[0m\u001b[0mreshape\u001b[0m\u001b[1;33m(\u001b[0m\u001b[1;33m[\u001b[0m\u001b[0moutput_height\u001b[0m\u001b[1;33m,\u001b[0m \u001b[0moutput_width\u001b[0m\u001b[1;33m,\u001b[0m \u001b[1;36m3\u001b[0m\u001b[1;33m]\u001b[0m\u001b[1;33m)\u001b[0m \u001b[1;33m/\u001b[0m \u001b[1;36m2.0\u001b[0m \u001b[1;33m+\u001b[0m \u001b[1;36m0.5\u001b[0m\u001b[1;33m)\u001b[0m\u001b[1;33m\u001b[0m\u001b[1;33m\u001b[0m\u001b[0m\n\u001b[0;32m     16\u001b[0m         \u001b[1;32mreturn\u001b[0m \u001b[0mim\u001b[0m\u001b[1;33m,\u001b[0m\u001b[1;33m\u001b[0m\u001b[1;33m\u001b[0m\u001b[0m\n\u001b[1;32m---> 17\u001b[1;33m     \u001b[0mdisplay\u001b[0m\u001b[1;33m(\u001b[0m\u001b[0mHTML\u001b[0m\u001b[1;33m(\u001b[0m\u001b[0manimation\u001b[0m\u001b[1;33m.\u001b[0m\u001b[0mFuncAnimation\u001b[0m\u001b[1;33m(\u001b[0m\u001b[0mfig\u001b[0m\u001b[1;33m,\u001b[0m \u001b[0mupdatefig\u001b[0m\u001b[1;33m,\u001b[0m \u001b[0mframes\u001b[0m\u001b[1;33m=\u001b[0m\u001b[0mnp\u001b[0m\u001b[1;33m.\u001b[0m\u001b[0mlinspace\u001b[0m\u001b[1;33m(\u001b[0m\u001b[1;36m0\u001b[0m\u001b[1;33m,\u001b[0m \u001b[1;36m2\u001b[0m\u001b[1;33m*\u001b[0m\u001b[0mnp\u001b[0m\u001b[1;33m.\u001b[0m\u001b[0mpi\u001b[0m\u001b[1;33m,\u001b[0m \u001b[1;36m64\u001b[0m\u001b[1;33m)\u001b[0m\u001b[1;33m,\u001b[0m \u001b[0mblit\u001b[0m\u001b[1;33m=\u001b[0m\u001b[1;32mTrue\u001b[0m\u001b[1;33m)\u001b[0m\u001b[1;33m.\u001b[0m\u001b[0mto_html5_video\u001b[0m\u001b[1;33m(\u001b[0m\u001b[1;33m)\u001b[0m\u001b[1;33m)\u001b[0m\u001b[1;33m)\u001b[0m\u001b[1;33m\u001b[0m\u001b[1;33m\u001b[0m\u001b[0m\n\u001b[0m\u001b[0;32m     18\u001b[0m     \u001b[0mplt\u001b[0m\u001b[1;33m.\u001b[0m\u001b[0mclose\u001b[0m\u001b[1;33m(\u001b[0m\u001b[1;33m)\u001b[0m\u001b[1;33m\u001b[0m\u001b[1;33m\u001b[0m\u001b[0m\n",
      "\u001b[1;32mc:\\users\\vamsh\\appdata\\local\\programs\\python\\python36\\lib\\site-packages\\matplotlib\\animation.py\u001b[0m in \u001b[0;36mto_html5_video\u001b[1;34m(self, embed_limit)\u001b[0m\n\u001b[0;32m   1337\u001b[0m                 \u001b[1;31m# We create a writer manually so that we can get the\u001b[0m\u001b[1;33m\u001b[0m\u001b[1;33m\u001b[0m\u001b[1;33m\u001b[0m\u001b[0m\n\u001b[0;32m   1338\u001b[0m                 \u001b[1;31m# appropriate size for the tag\u001b[0m\u001b[1;33m\u001b[0m\u001b[1;33m\u001b[0m\u001b[1;33m\u001b[0m\u001b[0m\n\u001b[1;32m-> 1339\u001b[1;33m                 \u001b[0mWriter\u001b[0m \u001b[1;33m=\u001b[0m \u001b[0mwriters\u001b[0m\u001b[1;33m[\u001b[0m\u001b[0mrcParams\u001b[0m\u001b[1;33m[\u001b[0m\u001b[1;34m'animation.writer'\u001b[0m\u001b[1;33m]\u001b[0m\u001b[1;33m]\u001b[0m\u001b[1;33m\u001b[0m\u001b[1;33m\u001b[0m\u001b[0m\n\u001b[0m\u001b[0;32m   1340\u001b[0m                 writer = Writer(codec='h264',\n\u001b[0;32m   1341\u001b[0m                                 \u001b[0mbitrate\u001b[0m\u001b[1;33m=\u001b[0m\u001b[0mrcParams\u001b[0m\u001b[1;33m[\u001b[0m\u001b[1;34m'animation.bitrate'\u001b[0m\u001b[1;33m]\u001b[0m\u001b[1;33m,\u001b[0m\u001b[1;33m\u001b[0m\u001b[1;33m\u001b[0m\u001b[0m\n",
      "\u001b[1;32mc:\\users\\vamsh\\appdata\\local\\programs\\python\\python36\\lib\\site-packages\\matplotlib\\animation.py\u001b[0m in \u001b[0;36m__getitem__\u001b[1;34m(self, name)\u001b[0m\n\u001b[0;32m    162\u001b[0m         \u001b[1;32mexcept\u001b[0m \u001b[0mKeyError\u001b[0m\u001b[1;33m:\u001b[0m\u001b[1;33m\u001b[0m\u001b[1;33m\u001b[0m\u001b[0m\n\u001b[0;32m    163\u001b[0m             raise RuntimeError(\n\u001b[1;32m--> 164\u001b[1;33m                 'Requested MovieWriter ({}) not available'.format(name))\n\u001b[0m\u001b[0;32m    165\u001b[0m \u001b[1;33m\u001b[0m\u001b[0m\n\u001b[0;32m    166\u001b[0m \u001b[1;33m\u001b[0m\u001b[0m\n",
      "\u001b[1;31mRuntimeError\u001b[0m: Requested MovieWriter (ffmpeg) not available"
     ]
    },
    {
     "data": {
      "image/png": "[encoded data removed]",
      "text/plain": [
       "<Figure size 432x288 with 1 Axes>"
      ]
     },
     "metadata": {
      "needs_background": "light"
     },
     "output_type": "display_data"
    }
   ],
   "source": [
    "# TODO: fill in this section to accomplish the following.\n",
    "# 1) select two different rows from the data matrix X\n",
    "# 2) project each row onto the best Q principal components using V_Q^T\n",
    "# 3) define reconstruction_function that reconstructs a data point x from its projection onto the best Q principal components using V_Q\n",
    "# 4) call the function latent_interpolation and generate a visualization with height 32 and width 32 \n",
    "# BEGIN YOUR CODE\n",
    "testRow1 = X[1234, :]\n",
    "testRow2 = X[123, :]\n",
    "\n",
    "proj1 = projPCA(testRow1)\n",
    "proj2 = projPCA(testRow2)\n",
    "\n",
    "def reconstruction_function(projection):\n",
    "    multiplied_matrices = np.matmul(V_Q, V_Q.transpose())\n",
    "    reconstructed = np.dot(multiplied_matrices, projection)\n",
    "    return reconstructed\n",
    "    \n",
    "latent_interpolation(proj1, proj2, reconstruction_function, 32, 32)\n",
    "# END YOUR CODE"
   ]
  },
  {
   "cell_type": "markdown",
   "metadata": {},
   "source": [
    "### Comment on what happens during the interpolation process:\n",
    "[TODO: your response here]"
   ]
  },
  {
   "cell_type": "code",
   "execution_count": null,
   "metadata": {},
   "outputs": [],
   "source": [
    "def latent_generation(z_mean, z_stddev, reconstruction_function, output_height, output_width):\n",
    "    \"\"\"This function samples from the latent space of the model and shows the resulting image.\n",
    "    Args:\n",
    "        z_mean: an np.float32 vector with Q elements.\n",
    "        z_stddev: an np.float32 matrix with Q by Q elements.\n",
    "        reconstruction_function: a function that takes in z_one or z_two and returns an np.float32 vector with D elements.\n",
    "        output_height: integer, the height to reshape each image to.\n",
    "        output_width: integer, the width to reshape each image to.\n",
    "    \"\"\"\n",
    "    sampled_point = z_mean + z_stddev.dot(np.random.normal(0, 1, z_mean.shape))\n",
    "    show_image(reconstruction_function(sampled_point), output_height, output_width)"
   ]
  },
  {
   "cell_type": "code",
   "execution_count": null,
   "metadata": {},
   "outputs": [],
   "source": [
    "# TODO: fill in this section to accomplish the following.\n",
    "# 1) project the data matrix onto best Q principal components using V_Q^T\n",
    "# 2) compute z_mean as the average of the projected matrix along the 0th axis\n",
    "# 3) define z_stddev to be the rank Q identity matrix for now\n",
    "# 4) generate an new image by calling latent_generation with height 32 and width 32 \n",
    "# BEGIN YOUR CODE\n",
    "\n",
    "# END YOUR CODE"
   ]
  },
  {
   "cell_type": "markdown",
   "metadata": {},
   "source": [
    "### Comment on how real the generated face looks:\n",
    "[TODO: your response here]"
   ]
  },
  {
   "cell_type": "markdown",
   "metadata": {},
   "source": [
    "## Section Three: Linear Autoencoder\n",
    "\n",
    "In this section, you will learn about the linear autoencoder, and you will also implement the linear autoencoder using pytorch. We shall use your linear autoencoder to interpolate between data points from $X$ and to also generate new samples of faces."
   ]
  },
  {
   "cell_type": "code",
   "execution_count": null,
   "metadata": {},
   "outputs": [],
   "source": [
    "class LinearEncoder(torch.nn.Module):\n",
    "    \n",
    "    def __init__(self, image_height, image_width, hidden_size):\n",
    "        \"\"\"Creates a single layer neural network.\n",
    "        Args:\n",
    "            image_height: an integer, the height of each image\n",
    "            image_width: an integer, the width of each image\n",
    "            hidden_size: an integer, the number of neurons in the hidden layer of this network\n",
    "        \"\"\"\n",
    "        super(LinearEncoder, self).__init__()\n",
    "        # TODO: fill in this section to accomplish the following.\n",
    "        # 1) create a single layer neural network that performs a linear transformation from a vector with \n",
    "        #    image_height * image_width * 3 dimensions to a vector with hidden_size dimensions.\n",
    "        #    HINT: consider the class torch.nn.Linear\n",
    "        # BEGIN YOUR CODE\n",
    "        # END YOUR CODE\n",
    "        \n",
    "    def forward(self, x):\n",
    "        \"\"\"Computes a single forward pass of this network.\n",
    "        Args:\n",
    "            x: a float32 tensor with shape [batch_size, D]\n",
    "        Returns:\n",
    "            a float32 tensor with shape [batch_size, hidden_size]\n",
    "        \"\"\"\n",
    "        # TODO: fill in this section to accomplish the following.\n",
    "        # 1) perform a forward pass using the hidden layer you defined\n",
    "        # 2) return the resulting vector\n",
    "        # BEGIN YOUR CODE\n",
    "        # END YOUR CODE"
   ]
  },
  {
   "cell_type": "code",
   "execution_count": null,
   "metadata": {},
   "outputs": [],
   "source": [
    "class LinearDecoder(torch.nn.Module):\n",
    "    \n",
    "    def __init__(self, image_height, image_width, hidden_size):\n",
    "        \"\"\"Creates a single layer neural network.\n",
    "        Args:\n",
    "            image_height: an integer, the height of each image\n",
    "            image_width: an integer, the width of each image\n",
    "            hidden_size: an integer, the number of neurons in the hidden layer of this network\n",
    "        \"\"\"\n",
    "        super(LinearDecoder, self).__init__()\n",
    "        # TODO: fill in this section to accomplish the following.\n",
    "        # 1) create a single layer neural network that performs a linear transformation from a vector with \n",
    "        #    hidden_size dimensions to a vector with image_height * image_width * 3 dimensions.\n",
    "        #    HINT: consider the class torch.nn.Linear\n",
    "        # BEGIN YOUR CODE\n",
    "        # END YOUR CODE\n",
    "        \n",
    "    def forward(self, x):\n",
    "        \"\"\"Computes a single forward pass of this network.\n",
    "        Args:\n",
    "            x: a float32 tensor with shape [batch_size, hidden_size]\n",
    "        Returns:\n",
    "            a float32 tensor with shape [batch_size, D]\n",
    "        \"\"\"\n",
    "        # TODO: fill in this section to accomplish the following.\n",
    "        # 1) perform a forward pass using the hidden layer you defined\n",
    "        # 2) return the resulting vector\n",
    "        # BEGIN YOUR CODE\n",
    "        # END YOUR CODE"
   ]
  },
  {
   "cell_type": "code",
   "execution_count": null,
   "metadata": {},
   "outputs": [],
   "source": [
    "linear_encoder = None\n",
    "linear_decoder = None\n",
    "linear_autoencoder_loss = None\n",
    "linear_autoencoder_optimizer = None\n",
    "# TODO: fill in this section to accomplish the following.\n",
    "# 1) create an instance of LinearEncoder named linear_encoder with height 32, width 32, and hidden size Q\n",
    "# 1) create an instance of LinearDecoder named linear_decoder with height 32, width 32, and hidden size Q\n",
    "# 2) assign linear_autoencoder_loss to be an instance of torch.nn.MSELoss\n",
    "# 2) create an optimizer named linear_autoencoder_optimizer of your choosing with a learning rate of your choosing.\n",
    "#    HINT: consider the torch.optim.Adam object\n",
    "# BEGIN YOUR CODE\n",
    "# END YOUR CODE"
   ]
  },
  {
   "cell_type": "code",
   "execution_count": null,
   "metadata": {
    "scrolled": true
   },
   "outputs": [],
   "source": [
    "# TODO: run the following section of code in order to train the model\n",
    "# Construct a tensor from the dataset\n",
    "image_tensor = torch.FloatTensor(X)\n",
    "for i in range(1000):\n",
    "    # Clear the previous gradient from the optimizer by calling .zero_grad()\n",
    "    linear_autoencoder_optimizer.zero_grad()\n",
    "    # Compute a full encoding and decoding step\n",
    "    reconstructed_image = linear_decoder(linear_encoder(image_tensor))\n",
    "    # Compute the mean squared reconstruction loss\n",
    "    loss = linear_autoencoder_loss(reconstructed_image, image_tensor)\n",
    "    # Pass the loss backward throgh the network, and compute the gradients\n",
    "    loss.backward()\n",
    "    # Update the optimizer by calling .step()\n",
    "    linear_autoencoder_optimizer.step()\n",
    "    # Return a detatched value of the loss for logging purposes\n",
    "    print(\"On iteration {0} the loss was {1}.\".format(i, loss.detach()))"
   ]
  },
  {
   "cell_type": "code",
   "execution_count": null,
   "metadata": {},
   "outputs": [],
   "source": [
    "# TODO: run the following section of code to define the reconstruction function\n",
    "def linear_autoencoder_reconstruction_function(z):\n",
    "    return linear_decoder(torch.FloatTensor(z[np.newaxis, :])).detach()[0, :]"
   ]
  },
  {
   "cell_type": "code",
   "execution_count": null,
   "metadata": {
    "scrolled": true
   },
   "outputs": [],
   "source": [
    "# TODO: fill in this section to accomplish the following.\n",
    "# 1) select two different rows from the data matrix X\n",
    "# 2) compute the hidden representation for each row using your linear_encoder\n",
    "# 3) call the function latent_interpolation and generate a visualization with height 32 and width 32 \n",
    "# BEGIN YOUR CODE\n",
    "# END YOUR CODE"
   ]
  },
  {
   "cell_type": "markdown",
   "metadata": {},
   "source": [
    "### Comment on what happens during the interpolation process:\n",
    "[TODO: your response here]"
   ]
  },
  {
   "cell_type": "code",
   "execution_count": null,
   "metadata": {
    "scrolled": true
   },
   "outputs": [],
   "source": [
    "# TODO: fill in this section to accomplish the following.\n",
    "# 1) compute the hidden representation of each row of the data matrix\n",
    "# 2) compute z_mean as the average of the hidden representation matrix along the 0th axis\n",
    "# 3) define z_stddev to be the rank Q identity matrix for now\n",
    "# 4) generate an new image by calling latent_generation with height 32 and width 32 \n",
    "# BEGIN YOUR CODE\n",
    "# END YOUR CODE"
   ]
  },
  {
   "cell_type": "markdown",
   "metadata": {},
   "source": [
    "### Comment on how real the generated face looks:\n",
    "[TODO: your response here]"
   ]
  },
  {
   "cell_type": "markdown",
   "metadata": {},
   "source": [
    "### Comment on how the linear autoencoder compares to PCA:\n",
    "[TODO: your response here]"
   ]
  },
  {
   "cell_type": "markdown",
   "metadata": {},
   "source": [
    "## Section Four: Convolutional Autoencoder\n",
    "\n",
    "In this section, you will learn about the convolutional autoencoder, and you will also implement the convolutional autoencoder using pytorch. We shall use your convolutional autoencoder to interpolate between data points from $X$ and to also generate new samples of faces."
   ]
  },
  {
   "cell_type": "code",
   "execution_count": 16,
   "metadata": {},
   "outputs": [],
   "source": [
    "class ConvolutionalEncoder(torch.nn.Module):\n",
    "    \n",
    "    def __init__(self, image_height, image_width, final_size):\n",
    "        \"\"\"Creates a deep convolutional neural network.\n",
    "        Args:\n",
    "            image_height: an integer, the height of each image\n",
    "            image_width: an integer, the width of each image\n",
    "            final_size: an integer, the depth of the final layer of this network\n",
    "        \"\"\"\n",
    "        super(ConvolutionalEncoder, self).__init__()\n",
    "        self.image_height = image_height\n",
    "        self.image_width = image_width\n",
    "        self.final_size = max(16 * 3, final_size)\n",
    "        # TODO: fill in this section to accomplish the following.\n",
    "        # 1) create a 5 layer convolutional neural network that transforms an image with shape\n",
    "        #    [image_height, image_width, 3] to a vector with final_size dimensions.\n",
    "        #    HINT: consider the class torch.nn.Conv2d with stride=2\n",
    "        # BEGIN YOUR CODE\n",
    "        self.conv1 = torch.nn.Conv2d(\n",
    "            in_channels=3,\n",
    "            out_channels=8,\n",
    "            kernel_size=2,\n",
    "            stride=2\n",
    "        )\n",
    "\n",
    "        self.conv2 = torch.nn.Conv2d(\n",
    "            in_channels=8,\n",
    "            out_channels=64,\n",
    "            kernel_size=2,\n",
    "            stride=2\n",
    "        )\n",
    "\n",
    "        \n",
    "        self.conv3 = torch.nn.Conv2d(\n",
    "            in_channels=64,\n",
    "            out_channels=128,\n",
    "            kernel_size=2,\n",
    "            stride=2\n",
    "        )\n",
    "\n",
    "        self.conv4 = torch.nn.Conv2d(\n",
    "            in_channels=128,\n",
    "            out_channels=164,\n",
    "            kernel_size=2,\n",
    "            stride=2,\n",
    "        )\n",
    "\n",
    "        self.conv5 = torch.nn.Conv2d(\n",
    "            in_channels=164,\n",
    "            out_channels=256,\n",
    "            kernel_size=2,\n",
    "            stride=2\n",
    "        )\n",
    "\n",
    "        \n",
    "        #self.output_shape = (int(self.image_height/2/2), int(self.image_width/2/2), 1)\n",
    "        #self.fc1 = torch.nn.Linear(np.prod(self.output_shape), 128)\n",
    "        #self.output_fc = torch.nn.Linear(128, self.final_size)\n",
    "        \n",
    "        # END YOUR CODE\n",
    "        \n",
    "    def forward(self, x):\n",
    "        \"\"\"Computes a single forward pass of this network.\n",
    "        Args:\n",
    "            x: a float32 tensor with shape [batch_size, D]\n",
    "        Returns:\n",
    "            a float32 tensor with shape [batch_size, final_size]\n",
    "        \"\"\"\n",
    "        x = x.view(x.size()[0], self.image_height, self.image_width, 3)\n",
    "        x = torch.transpose(x, 1, 3)\n",
    "        # TODO: fill in this section to accomplish the following.\n",
    "        # 1) perform a forward pass using the conv layers you defined\n",
    "        # 2) apply any activation function you want\n",
    "        # BEGIN YOUR CODE\n",
    "        #print(x.size())\n",
    "        x = F.relu(self.conv1(x))\n",
    "        #print(x.size())\n",
    "        x = F.relu(self.conv2(x))\n",
    "        #print(x.size())\n",
    "        x = F.relu(self.conv3(x))\n",
    "        #print(x.size())\n",
    "        x = F.relu(self.conv4(x))\n",
    "        #print(x.size())\n",
    "        x = F.relu(self.conv5(x))\n",
    "        #print(x.size())\n",
    "        \n",
    "        #x = F.relu(self.fc1(x))\n",
    "        #x = self.output_fc(x)\n",
    "        # END YOUR CODE\n",
    "        x = torch.transpose(x, 1, 3)\n",
    "        x = x.contiguous()\n",
    "        #encoder\n",
    "        x = x.view(x.size()[0], self.final_size)\n",
    "        return x"
   ]
  },
  {
   "cell_type": "code",
   "execution_count": 17,
   "metadata": {},
   "outputs": [],
   "source": [
    "class ConvolutionalDecoder(torch.nn.Module):\n",
    "    \n",
    "    def __init__(self, image_height, image_width, final_size):\n",
    "        \"\"\"Creates a deep convolutional neural network.\n",
    "        Args:\n",
    "            image_height: an integer, the height of each image\n",
    "            image_width: an integer, the width of each image\n",
    "            final_size: an integer, the depth of the final layer of this network\n",
    "        \"\"\"\n",
    "        super(ConvolutionalDecoder, self).__init__()\n",
    "        self.image_height = image_height\n",
    "        self.image_width = image_width\n",
    "        self.final_size = max(16 * 3, final_size)\n",
    "        # TODO: fill in this section to accomplish the following.\n",
    "        # 1) create a 5 layer transpose convolutional neural network that transforms a vector with \n",
    "        #    final_size dimensions to an image with shape [image_height, image_width, 3]\n",
    "        #    HINT: consider the class torch.nn.ConvTranspose2d with stride=2\n",
    "        # BEGIN YOUR CODE\n",
    "        self.conv1 = torch.nn.ConvTranspose2d(\n",
    "            in_channels=256,\n",
    "            out_channels=164,\n",
    "            kernel_size=2,\n",
    "            stride=2\n",
    "        )\n",
    "        \n",
    "        self.conv2 = torch.nn.ConvTranspose2d(\n",
    "            in_channels=164,\n",
    "            out_channels=128,\n",
    "            kernel_size=2,\n",
    "            stride=2\n",
    "        )\n",
    "        \n",
    "        self.conv3 = torch.nn.ConvTranspose2d(\n",
    "            in_channels=128,\n",
    "            out_channels=64,\n",
    "            kernel_size=2,\n",
    "            stride=2\n",
    "        )\n",
    "        \n",
    "        \n",
    "        self.conv4 = torch.nn.ConvTranspose2d(\n",
    "            in_channels=64,\n",
    "            out_channels=8,\n",
    "            kernel_size=2,\n",
    "            stride=2\n",
    "        )\n",
    "        \n",
    "        self.conv5 = torch.nn.ConvTranspose2d(\n",
    "            in_channels=8,\n",
    "            out_channels=3,\n",
    "            kernel_size=2,\n",
    "            stride=2\n",
    "        )\n",
    "    \n",
    "        # END YOUR CODE\n",
    "        \n",
    "    def forward(self, x):\n",
    "        \"\"\"Computes a single forward pass of this network.\n",
    "        Args:\n",
    "            x: a float32 tensor with shape [batch_size, final_size]\n",
    "        Returns:\n",
    "            a float32 tensor with shape [batch_size, D]\n",
    "        \"\"\"\n",
    "        x = x.view(x.size()[0], 1, 1, self.final_size)\n",
    "        x = torch.transpose(x, 1, 3)\n",
    "        # TODO: fill in this section to accomplish the following.\n",
    "        # 1) perform a forward pass using the conv layers you defined\n",
    "        # 2) apply any activation function you want\n",
    "        # BEGIN YOUR CODE\n",
    "        #print(\"decoder start\")\n",
    "        #print(x.size())\n",
    "        x = F.relu(self.conv1(x))\n",
    "        #print(x.size())\n",
    "        x = F.relu(self.conv2(x))\n",
    "        #print(x.size())\n",
    "        x = F.relu(self.conv3(x))\n",
    "        #print(x.size())\n",
    "        x = F.relu(self.conv4(x))\n",
    "        #print(x.size())\n",
    "        x = F.relu(self.conv5(x))\n",
    "        #print(x.size())\n",
    "        \n",
    "        # END YOUR CODE\n",
    "        x = torch.transpose(x, 1, 3)\n",
    "        x = x.contiguous()\n",
    "        x = x.view(x.size()[0], self.image_height * self.image_width * 3)\n",
    "        return x"
   ]
  },
  {
   "cell_type": "code",
   "execution_count": 18,
   "metadata": {},
   "outputs": [],
   "source": [
    "convolutional_encoder = None\n",
    "convolutional_decoder = None\n",
    "convolutional_autoencoder_loss = None\n",
    "convolutional_autoencoder_optimizer = None\n",
    "# TODO: fill in this section to accomplish the following.\n",
    "# 1) create an instance of ConvolutionalEncoder named convolutional_encoder with height 32, width 32, and hidden size Q\n",
    "# 1) create an instance of ConvolutionalDecoder named convolutional_decoder with height 32, width 32, and hidden size Q\n",
    "# 2) assign convolutional_autoencoder_loss to be an instance of torch.nn.MSELoss\n",
    "# 2) create an optimizer named convolutional_autoencoder_optimizer of your choosing with a learning rate of your choosing.\n",
    "#    HINT: consider the torch.optim.Adam object\n",
    "# BEGIN YOUR CODE\n",
    "convolutional_encoder = ConvolutionalEncoder(32, 32, Q)\n",
    "convolutional_decoder = ConvolutionalDecoder(32, 32, Q)\n",
    "convolutional_autoencoder_loss = torch.nn.MSELoss()\n",
    "convolutional_autoencoder_optimizer = torch.optim.Adam(convolutional_encoder.parameters(), lr=0.1)\n",
    "# END YOUR CODE"
   ]
  },
  {
   "cell_type": "code",
   "execution_count": 19,
   "metadata": {},
   "outputs": [
    {
     "data": {
      "text/plain": [
       "array([[ 0.99212599,  0.81889766,  0.52755904, ..., -0.13385826,\n",
       "        -0.65354329, -0.85826772],\n",
       "       [-0.48818898, -0.60629922, -0.66141731, ...,  0.02362205,\n",
       "        -0.20472442, -0.23622048],\n",
       "       [ 1.00787401,  1.00787401,  1.00787401, ..., -0.26771653,\n",
       "        -0.28346458, -0.25984251],\n",
       "       ...,\n",
       "       [ 0.38582677,  0.50393701,  0.48031497, ..., -0.55905509,\n",
       "        -0.82677168, -0.83464569],\n",
       "       [-0.48031497, -0.66929132, -0.70078743, ...,  0.02362205,\n",
       "         0.11811024, -0.24409449],\n",
       "       [ 0.85826772,  0.89763778,  0.92913383, ..., -0.72440946,\n",
       "        -0.73228347, -0.7480315 ]])"
      ]
     },
     "execution_count": 19,
     "metadata": {},
     "output_type": "execute_result"
    }
   ],
   "source": [
    "X"
   ]
  },
  {
   "cell_type": "code",
   "execution_count": 20,
   "metadata": {
    "scrolled": false
   },
   "outputs": [
    {
     "ename": "KeyboardInterrupt",
     "evalue": "",
     "output_type": "error",
     "traceback": [
      "\u001b[1;31m---------------------------------------------------------------------------\u001b[0m",
      "\u001b[1;31mKeyboardInterrupt\u001b[0m                         Traceback (most recent call last)",
      "\u001b[1;32m<ipython-input-20-b5225a39863c>\u001b[0m in \u001b[0;36m<module>\u001b[1;34m\u001b[0m\n\u001b[0;32m     10\u001b[0m     \u001b[0mloss\u001b[0m \u001b[1;33m=\u001b[0m \u001b[0mconvolutional_autoencoder_loss\u001b[0m\u001b[1;33m(\u001b[0m\u001b[0mreconstructed_image\u001b[0m\u001b[1;33m,\u001b[0m \u001b[0mimage_tensor\u001b[0m\u001b[1;33m)\u001b[0m\u001b[1;33m\u001b[0m\u001b[1;33m\u001b[0m\u001b[0m\n\u001b[0;32m     11\u001b[0m     \u001b[1;31m# Pass the loss backward throgh the network, and compute the gradients\u001b[0m\u001b[1;33m\u001b[0m\u001b[1;33m\u001b[0m\u001b[1;33m\u001b[0m\u001b[0m\n\u001b[1;32m---> 12\u001b[1;33m     \u001b[0mloss\u001b[0m\u001b[1;33m.\u001b[0m\u001b[0mbackward\u001b[0m\u001b[1;33m(\u001b[0m\u001b[1;33m)\u001b[0m\u001b[1;33m\u001b[0m\u001b[1;33m\u001b[0m\u001b[0m\n\u001b[0m\u001b[0;32m     13\u001b[0m     \u001b[1;31m# Update the optimizer by calling .step()\u001b[0m\u001b[1;33m\u001b[0m\u001b[1;33m\u001b[0m\u001b[1;33m\u001b[0m\u001b[0m\n\u001b[0;32m     14\u001b[0m     \u001b[0mconvolutional_autoencoder_optimizer\u001b[0m\u001b[1;33m.\u001b[0m\u001b[0mstep\u001b[0m\u001b[1;33m(\u001b[0m\u001b[1;33m)\u001b[0m\u001b[1;33m\u001b[0m\u001b[1;33m\u001b[0m\u001b[0m\n",
      "\u001b[1;32mc:\\users\\vamsh\\appdata\\local\\programs\\python\\python36\\lib\\site-packages\\torch\\tensor.py\u001b[0m in \u001b[0;36mbackward\u001b[1;34m(self, gradient, retain_graph, create_graph)\u001b[0m\n\u001b[0;32m    100\u001b[0m                 \u001b[0mproducts\u001b[0m\u001b[1;33m.\u001b[0m \u001b[0mDefaults\u001b[0m \u001b[0mto\u001b[0m\u001b[0;31m \u001b[0m\u001b[0;31m`\u001b[0m\u001b[0;31m`\u001b[0m\u001b[1;32mFalse\u001b[0m\u001b[0;31m`\u001b[0m\u001b[0;31m`\u001b[0m\u001b[1;33m.\u001b[0m\u001b[1;33m\u001b[0m\u001b[1;33m\u001b[0m\u001b[0m\n\u001b[0;32m    101\u001b[0m         \"\"\"\n\u001b[1;32m--> 102\u001b[1;33m         \u001b[0mtorch\u001b[0m\u001b[1;33m.\u001b[0m\u001b[0mautograd\u001b[0m\u001b[1;33m.\u001b[0m\u001b[0mbackward\u001b[0m\u001b[1;33m(\u001b[0m\u001b[0mself\u001b[0m\u001b[1;33m,\u001b[0m \u001b[0mgradient\u001b[0m\u001b[1;33m,\u001b[0m \u001b[0mretain_graph\u001b[0m\u001b[1;33m,\u001b[0m \u001b[0mcreate_graph\u001b[0m\u001b[1;33m)\u001b[0m\u001b[1;33m\u001b[0m\u001b[1;33m\u001b[0m\u001b[0m\n\u001b[0m\u001b[0;32m    103\u001b[0m \u001b[1;33m\u001b[0m\u001b[0m\n\u001b[0;32m    104\u001b[0m     \u001b[1;32mdef\u001b[0m \u001b[0mregister_hook\u001b[0m\u001b[1;33m(\u001b[0m\u001b[0mself\u001b[0m\u001b[1;33m,\u001b[0m \u001b[0mhook\u001b[0m\u001b[1;33m)\u001b[0m\u001b[1;33m:\u001b[0m\u001b[1;33m\u001b[0m\u001b[1;33m\u001b[0m\u001b[0m\n",
      "\u001b[1;32mc:\\users\\vamsh\\appdata\\local\\programs\\python\\python36\\lib\\site-packages\\torch\\autograd\\__init__.py\u001b[0m in \u001b[0;36mbackward\u001b[1;34m(tensors, grad_tensors, retain_graph, create_graph, grad_variables)\u001b[0m\n\u001b[0;32m     88\u001b[0m     Variable._execution_engine.run_backward(\n\u001b[0;32m     89\u001b[0m         \u001b[0mtensors\u001b[0m\u001b[1;33m,\u001b[0m \u001b[0mgrad_tensors\u001b[0m\u001b[1;33m,\u001b[0m \u001b[0mretain_graph\u001b[0m\u001b[1;33m,\u001b[0m \u001b[0mcreate_graph\u001b[0m\u001b[1;33m,\u001b[0m\u001b[1;33m\u001b[0m\u001b[1;33m\u001b[0m\u001b[0m\n\u001b[1;32m---> 90\u001b[1;33m         allow_unreachable=True)  # allow_unreachable flag\n\u001b[0m\u001b[0;32m     91\u001b[0m \u001b[1;33m\u001b[0m\u001b[0m\n\u001b[0;32m     92\u001b[0m \u001b[1;33m\u001b[0m\u001b[0m\n",
      "\u001b[1;31mKeyboardInterrupt\u001b[0m: "
     ]
    }
   ],
   "source": [
    "# TODO: run the following section of code in order to train the model\n",
    "# Construct a tensor from the dataset\n",
    "image_tensor = torch.FloatTensor(X)\n",
    "for i in range(1000):\n",
    "    # Clear the previous gradient from the optimizer by calling .zero_grad()\n",
    "    convolutional_autoencoder_optimizer.zero_grad()\n",
    "    # Compute a full encoding and decoding step\n",
    "    reconstructed_image = convolutional_decoder(convolutional_encoder(image_tensor))\n",
    "    # Compute the mean squared reconstruction loss\n",
    "    loss = convolutional_autoencoder_loss(reconstructed_image, image_tensor)\n",
    "    # Pass the loss backward throgh the network, and compute the gradients\n",
    "    loss.backward()\n",
    "    # Update the optimizer by calling .step()\n",
    "    convolutional_autoencoder_optimizer.step()\n",
    "    # Return a detatched value of the loss for logging purposes\n",
    "    print(\"On iteration {0} the loss was {1}.\".format(i, loss.detach()))"
   ]
  },
  {
   "cell_type": "code",
   "execution_count": null,
   "metadata": {},
   "outputs": [],
   "source": [
    "# TODO: run the following section of code to define the reconstruction function\n",
    "def convolutional_autoencoder_reconstruction_function(z):\n",
    "    return np.asarray(convolutional_decoder(torch.FloatTensor(z[np.newaxis, :])).detach()[0, :], np.float32)"
   ]
  },
  {
   "cell_type": "code",
   "execution_count": 21,
   "metadata": {},
   "outputs": [
    {
     "ename": "TypeError",
     "evalue": "Cannot find a common data type.",
     "output_type": "error",
     "traceback": [
      "\u001b[1;31m---------------------------------------------------------------------------\u001b[0m",
      "\u001b[1;31mTypeError\u001b[0m                                 Traceback (most recent call last)",
      "\u001b[1;32m<ipython-input-21-d8cf42f059ed>\u001b[0m in \u001b[0;36m<module>\u001b[1;34m\u001b[0m\n\u001b[0;32m      8\u001b[0m \u001b[0mrow2\u001b[0m \u001b[1;33m=\u001b[0m \u001b[0mconvolutional_encoder\u001b[0m\u001b[1;33m(\u001b[0m\u001b[0mimage\u001b[0m\u001b[1;33m)\u001b[0m\u001b[1;33m[\u001b[0m\u001b[1;36m1\u001b[0m\u001b[1;33m]\u001b[0m\u001b[1;33m\u001b[0m\u001b[1;33m\u001b[0m\u001b[0m\n\u001b[0;32m      9\u001b[0m \u001b[1;33m\u001b[0m\u001b[0m\n\u001b[1;32m---> 10\u001b[1;33m \u001b[0mlatent_interpolation\u001b[0m\u001b[1;33m(\u001b[0m\u001b[0mprojPCA\u001b[0m\u001b[1;33m(\u001b[0m\u001b[0mrow1\u001b[0m\u001b[1;33m)\u001b[0m\u001b[1;33m,\u001b[0m \u001b[0mprojPCA\u001b[0m\u001b[1;33m(\u001b[0m\u001b[0mrow2\u001b[0m\u001b[1;33m)\u001b[0m\u001b[1;33m,\u001b[0m \u001b[0mconvolutional_autoencoder_reconstruction_function\u001b[0m\u001b[1;33m,\u001b[0m \u001b[1;36m32\u001b[0m\u001b[1;33m,\u001b[0m \u001b[1;36m32\u001b[0m\u001b[1;33m)\u001b[0m\u001b[1;33m\u001b[0m\u001b[1;33m\u001b[0m\u001b[0m\n\u001b[0m\u001b[0;32m     11\u001b[0m \u001b[1;31m# END YOUR CODE\u001b[0m\u001b[1;33m\u001b[0m\u001b[1;33m\u001b[0m\u001b[1;33m\u001b[0m\u001b[0m\n",
      "\u001b[1;32m<ipython-input-11-4ba83a05184f>\u001b[0m in \u001b[0;36mprojPCA\u001b[1;34m(row)\u001b[0m\n\u001b[0;32m      6\u001b[0m \u001b[1;32mdef\u001b[0m \u001b[0mprojPCA\u001b[0m\u001b[1;33m(\u001b[0m\u001b[0mrow\u001b[0m\u001b[1;33m)\u001b[0m\u001b[1;33m:\u001b[0m\u001b[1;33m\u001b[0m\u001b[1;33m\u001b[0m\u001b[0m\n\u001b[0;32m      7\u001b[0m     \u001b[0mmultiplied_matrices\u001b[0m \u001b[1;33m=\u001b[0m \u001b[0mnp\u001b[0m\u001b[1;33m.\u001b[0m\u001b[0mmatmul\u001b[0m\u001b[1;33m(\u001b[0m\u001b[0mV_Q\u001b[0m\u001b[1;33m,\u001b[0m \u001b[0mV_Q\u001b[0m\u001b[1;33m.\u001b[0m\u001b[0mtranspose\u001b[0m\u001b[1;33m(\u001b[0m\u001b[1;33m)\u001b[0m\u001b[1;33m)\u001b[0m\u001b[1;33m\u001b[0m\u001b[1;33m\u001b[0m\u001b[0m\n\u001b[1;32m----> 8\u001b[1;33m     \u001b[0mprojection\u001b[0m \u001b[1;33m=\u001b[0m \u001b[0mnp\u001b[0m\u001b[1;33m.\u001b[0m\u001b[0mdot\u001b[0m\u001b[1;33m(\u001b[0m\u001b[0mmultiplied_matrices\u001b[0m\u001b[1;33m,\u001b[0m \u001b[0mrow\u001b[0m\u001b[1;33m)\u001b[0m\u001b[1;33m\u001b[0m\u001b[1;33m\u001b[0m\u001b[0m\n\u001b[0m\u001b[0;32m      9\u001b[0m     \u001b[1;32mreturn\u001b[0m \u001b[0mprojection\u001b[0m\u001b[1;33m\u001b[0m\u001b[1;33m\u001b[0m\u001b[0m\n\u001b[0;32m     10\u001b[0m \u001b[0mprojection\u001b[0m \u001b[1;33m=\u001b[0m \u001b[0mprojPCA\u001b[0m\u001b[1;33m(\u001b[0m\u001b[0mrow0\u001b[0m\u001b[1;33m)\u001b[0m\u001b[1;33m\u001b[0m\u001b[1;33m\u001b[0m\u001b[0m\n",
      "\u001b[1;31mTypeError\u001b[0m: Cannot find a common data type."
     ]
    }
   ],
   "source": [
    "# TODO: fill in this section to accomplish the following.\n",
    "# 1) select two different rows from the data matrix X\n",
    "# 2) compute the hidden representation for each row using your convolutional_encoder\n",
    "# 3) call the function latent_interpolation and generate a visualization with height 32 and width 32 \n",
    "# BEGIN YOUR CODE\n",
    "image = torch.FloatTensor(X)\n",
    "row1 = convolutional_encoder(image)[0]\n",
    "row2 = convolutional_encoder(image)[1]\n",
    "\n",
    "latent_interpolation(projPCA(row1), projPCA(row2), convolutional_autoencoder_reconstruction_function, 32, 32)\n",
    "# END YOUR CODE"
   ]
  },
  {
   "cell_type": "markdown",
   "metadata": {},
   "source": [
    "### Comment on what happens during the interpolation process:\n",
    "[TODO: your response here]"
   ]
  },
  {
   "cell_type": "code",
   "execution_count": null,
   "metadata": {},
   "outputs": [],
   "source": [
    "# TODO: fill in this section to accomplish the following.\n",
    "# 1) compute the hidden representation of each row of the data matrix using convolutional_encoder\n",
    "# 2) compute z_mean as the average of the hidden representation matrix along the 0th axis\n",
    "# 3) define z_stddev to be the rank Q identity matrix for now\n",
    "# 4) generate an new image by calling latent_generation with height 32 and width 32 \n",
    "# BEGIN YOUR CODE\n",
    "# END YOUR CODE"
   ]
  },
  {
   "cell_type": "markdown",
   "metadata": {},
   "source": [
    "### Comment on how real the generated face looks:\n",
    "[TODO: your response here]"
   ]
  },
  {
   "cell_type": "markdown",
   "metadata": {},
   "source": [
    "### Comment on how the convolutional autoencoder compares to the linear autoencoder and PCA:\n",
    "[TODO: your response here]"
   ]
  },
  {
   "cell_type": "markdown",
   "metadata": {},
   "source": [
    "## (Optional) Section Five: Variational Autoencoder\n",
    "\n",
    "In this section, we implement the Variational Autoencoder, an extension for the traditional autoencoder that explicitly models the probability distribution of a latent variable. This section is optional, and so we fill in the code for you. If you have extra time after completing the rest of this homework, you should first read this tutorial on variational inference https://arxiv.org/pdf/1606.05908.pdf. Then, you may attempt to train the VAE given below."
   ]
  },
  {
   "cell_type": "code",
   "execution_count": null,
   "metadata": {},
   "outputs": [],
   "source": [
    "# TODO: run the following section of code\n",
    "class Sampler(torch.nn.Module):\n",
    "    \n",
    "    def __init__(self, hidden_size):\n",
    "        \"\"\"Creates a Variational sampling layer.\n",
    "        Args:\n",
    "            hidden_size: an integer, the number of neurons in the sampling layer.\n",
    "        \"\"\"\n",
    "        super(Sampler, self).__init__()\n",
    "        self.hidden_size = hidden_size\n",
    "        self.log_scale = torch.nn.Linear(hidden_size, hidden_size)\n",
    "        self.shift = torch.nn.Linear(hidden_size, hidden_size)\n",
    "        \n",
    "    def forward(self, x):\n",
    "        \"\"\"Computes a single forward pass of this network.\n",
    "        Args:\n",
    "            x: a float32 tensor with shape [batch_size, hidden_size]\n",
    "        Returns:\n",
    "            a float32 tensor with shape [batch_size, hidden_size]\n",
    "        \"\"\"\n",
    "        scale = torch.exp(self.log_scale(x))\n",
    "        shift = self.shift(x)\n",
    "        sample = torch.randn([self.hidden_size]) * scale + shift\n",
    "        return sample\n",
    "        \n",
    "    def kl_penalty(self, x):\n",
    "        \"\"\"Computes a single forward pass of this network.\n",
    "        Args:\n",
    "            x: a float32 tensor with shape [batch_size, hidden_size]\n",
    "        Returns:\n",
    "            a float32 scalar: KL divergence between this distribution and the standard normal distribution.\n",
    "        \"\"\"\n",
    "        log_scale = self.log_scale(x)\n",
    "        scale = torch.exp(log_scale)\n",
    "        shift = self.shift(x)\n",
    "        return torch.mean(log_scale + (1.0 + shift * shift) / (2.0 * scale * scale) - 0.5)"
   ]
  },
  {
   "cell_type": "code",
   "execution_count": null,
   "metadata": {},
   "outputs": [],
   "source": [
    "# TODO: run the following section of code\n",
    "variational_encoder = ConvolutionalEncoder(32, 32, 256)\n",
    "variational_decoder = ConvolutionalDecoder(32, 32, 256)\n",
    "sampler = Sampler(256)\n",
    "variational_autoencoder_loss = torch.nn.MSELoss()\n",
    "variational_autoencoder_optimizer = torch.optim.Adam([\n",
    "    {\"params\": variational_encoder.parameters()}, \n",
    "    {\"params\": variational_decoder.parameters()}, \n",
    "    {\"params\": sampler.parameters()}])"
   ]
  },
  {
   "cell_type": "code",
   "execution_count": null,
   "metadata": {
    "scrolled": true
   },
   "outputs": [],
   "source": [
    "# TODO: run the following section of code in order to train the model\n",
    "# Construct a tensor from the dataset\n",
    "image_tensor = torch.FloatTensor(X)\n",
    "for i in range(10000):\n",
    "    # Clear the previous gradient from the optimizer by calling .zero_grad()\n",
    "    variational_autoencoder_optimizer.zero_grad()\n",
    "    # Compute a full encoding and decoding step\n",
    "    hidden_variables = variational_encoder(image_tensor)\n",
    "    reconstructed_image = variational_decoder(sampler(hidden_variables))\n",
    "    # Compute the mean squared reconstruction loss\n",
    "    loss = variational_autoencoder_loss(reconstructed_image, image_tensor) - sampler.kl_penalty(hidden_variables)\n",
    "    # Pass the loss backward throgh the network, and compute the gradients\n",
    "    loss.backward()\n",
    "    # Update the optimizer by calling .step()\n",
    "    variational_autoencoder_optimizer.step()\n",
    "    # Return a detatched value of the loss for logging purposes\n",
    "    print(\"On iteration {0} the loss was {1}.\".format(i, loss.detach()))"
   ]
  },
  {
   "cell_type": "code",
   "execution_count": null,
   "metadata": {},
   "outputs": [],
   "source": [
    "# TODO: run the following section of code\n",
    "def variational_autoencoder_reconstruction_function(z):\n",
    "    return np.asarray(variational_decoder(torch.FloatTensor(z[np.newaxis, :])).detach()[0, :], np.float32)"
   ]
  },
  {
   "cell_type": "code",
   "execution_count": null,
   "metadata": {},
   "outputs": [],
   "source": [
    "# TODO: run the following section of code\n",
    "x_one = X[0, :]\n",
    "x_two = X[1, :]\n",
    "z_one = np.asarray(sampler(variational_encoder(torch.FloatTensor(x_one[np.newaxis, :]))).detach(), np.float32)\n",
    "z_two = np.asarray(sampler(variational_encoder(torch.FloatTensor(x_two[np.newaxis, :]))).detach(), np.float32)\n",
    "latent_interpolation(z_one, z_two, convolutional_autoencoder_reconstruction_function, 32, 32)"
   ]
  },
  {
   "cell_type": "markdown",
   "metadata": {},
   "source": [
    "### Comment on what happens during the interpolation process:\n",
    "[TODO: your response here]"
   ]
  },
  {
   "cell_type": "code",
   "execution_count": null,
   "metadata": {},
   "outputs": [],
   "source": [
    "# TODO: run the following section of code\n",
    "z_mean = np.asarray(torch.mean(sampler(variational_encoder(torch.FloatTensor(X))), 0).detach(), np.float32)\n",
    "z_stddev = np.identity(Q)\n",
    "latent_generation(z_mean, z_stddev, convolutional_autoencoder_reconstruction_function, 32, 32)"
   ]
  },
  {
   "cell_type": "markdown",
   "metadata": {},
   "source": [
    "### Comment on how real the generated face looks:\n",
    "[TODO: your response here]"
   ]
  },
  {
   "cell_type": "markdown",
   "metadata": {},
   "source": [
    "### Comment on how the convolutional autoencoder compares to the linear autoencoder and PCA:\n",
    "[TODO: your response here]"
   ]
  },
  {
   "cell_type": "code",
   "execution_count": null,
   "metadata": {},
   "outputs": [],
   "source": []
  },
  {
   "cell_type": "code",
   "execution_count": null,
   "metadata": {},
   "outputs": [],
   "source": []
  },
  {
   "cell_type": "code",
   "execution_count": null,
   "metadata": {},
   "outputs": [],
   "source": []
  },
  {
   "cell_type": "code",
   "execution_count": null,
   "metadata": {},
   "outputs": [],
   "source": []
  }
 ],
 "metadata": {
  "kernelspec": {
   "display_name": "Python 3",
   "language": "python",
   "name": "python3"
  },
  "language_info": {
   "codemirror_mode": {
    "name": "ipython",
    "version": 3
   },
   "file_extension": ".py",
   "mimetype": "text/x-python",
   "name": "python",
   "nbconvert_exporter": "python",
   "pygments_lexer": "ipython3",
   "version": "3.6.8rc1"
  }
 },
 "nbformat": 4,
 "nbformat_minor": 2
}
