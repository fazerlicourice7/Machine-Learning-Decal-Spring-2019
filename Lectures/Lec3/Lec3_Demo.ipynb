{
 "cells": [
  {
   "cell_type": "code",
   "execution_count": 2,
   "metadata": {},
   "outputs": [],
   "source": [
    "'''\n",
    "Library that allows us to easily load MNIST data.\n",
    "Note it's only because MNIST is so popular that\n",
    "there is a library to do this. Typically data\n",
    "must be loaded manually.\n",
    "'''\n",
    "import mnist\n",
    "\n",
    "#Load training images and labels\n",
    "training_images = mnist.train_images()\n",
    "training_labels = mnist.train_labels()"
   ]
  },
  {
   "cell_type": "code",
   "execution_count": 5,
   "metadata": {},
   "outputs": [
    {
     "name": "stdout",
     "output_type": "stream",
     "text": [
      "Training Images Dimensions  (60000, 28, 28)\n",
      "Training Labels Dimensions  (60000,)\n",
      "\n",
      "Example Data point (5)\n"
     ]
    },
    {
     "data": {
      "image/png": "[encoded data removed]",
      "text/plain": [
       "<Figure size 432x288 with 1 Axes>"
      ]
     },
     "metadata": {
      "needs_background": "light"
     },
     "output_type": "display_data"
    }
   ],
   "source": [
    "#Library for basic manipulations\n",
    "import numpy as np\n",
    "#Library for displaying plots\n",
    "import matplotlib.pyplot as plt\n",
    "\n",
    "print(\"Training Images Dimensions \",np.shape(training_images))\n",
    "print(\"Training Labels Dimensions \",np.shape(training_labels))\n",
    "print()\n",
    "\n",
    "print(f\"Example Data point ({training_labels[0]})\")\n",
    "plt.imshow(training_images[0],cmap='gray')\n",
    "plt.show()"
   ]
  },
  {
   "cell_type": "code",
   "execution_count": 6,
   "metadata": {},
   "outputs": [
    {
     "name": "stdout",
     "output_type": "stream",
     "text": [
      "5 -> [0, 0, 0, 0, 0, 1, 0, 0, 0, 0]\n",
      "(60000,) -> (60000, 10)\n",
      "(60000, 28, 28) -> (60000, 784)\n"
     ]
    }
   ],
   "source": [
    "'''\n",
    "Function that converts numerical representation\n",
    "to a one hot representation.  That is if there\n",
    "are n different classes, class k will be represented\n",
    "by a vector of length n with all zeros except for a\n",
    "single 1 at index k.\n",
    "'''\n",
    "def one_hot(labels,num_classes):\n",
    "    return [[int(i==l) for i in range(num_classes)] for l in labels]\n",
    "\n",
    "#Convert training labels to one hot\n",
    "one_hot_training_labels = one_hot(labels=training_labels,num_classes=10)\n",
    "\n",
    "#Flatten image to allow for input in to feed forward network\n",
    "flat_training_images = np.reshape(training_images,[-1,784])\n",
    "\n",
    "print(f\"{training_labels[0]} -> {one_hot_training_labels[0]}\")\n",
    "print(f\"{np.shape(training_labels)} -> {np.shape(one_hot_training_labels)}\")\n",
    "print(f\"{np.shape(training_images)} -> {np.shape(flat_training_images)}\")"
   ]
  },
  {
   "cell_type": "code",
   "execution_count": 7,
   "metadata": {},
   "outputs": [],
   "source": [
    "#Load test images and labels\n",
    "test_images = mnist.test_images()\n",
    "test_labels = mnist.test_labels()\n",
    "\n",
    "#Flatten images and convert labels to one hot\n",
    "flat_test_images = np.reshape(test_images,[-1,784])\n",
    "one_hot_test_labels = one_hot(test_labels,10)"
   ]
  },
  {
   "cell_type": "code",
   "execution_count": 8,
   "metadata": {},
   "outputs": [
    {
     "name": "stdout",
     "output_type": "stream",
     "text": [
      "Training...\n",
      "Complete.\n"
     ]
    },
    {
     "name": "stderr",
     "output_type": "stream",
     "text": [
      "c:\\users\\vamsh\\appdata\\local\\programs\\python\\python36\\lib\\site-packages\\sklearn\\linear_model\\sag.py:334: ConvergenceWarning: The max_iter was reached which means the coef_ did not converge\n",
      "  \"the coef_ did not converge\", ConvergenceWarning)\n"
     ]
    }
   ],
   "source": [
    "'''\n",
    "Here we use an optimized sklearn logistic regression\n",
    "implementation to gauge how well or neural network\n",
    "performs later\n",
    "'''\n",
    "from sklearn.linear_model import LogisticRegression\n",
    "\n",
    "'''\n",
    "Multinomial indicates that we have multiple classes,\n",
    "that is our output is not a single number 0 to 1 but\n",
    "a probability distribution between the different classes.\n",
    "More on how this works later.  'Saga' is an optimizer\n",
    "capable of solving multinomial regression.  Typically\n",
    "results are greatly diminishing after the first couple\n",
    "iterations.  max_iter=10 is to prevent the fitting\n",
    "process from taking excessively long.\n",
    "'''\n",
    "model = LogisticRegression(solver='saga',max_iter=10,multi_class='multinomial')\n",
    "print(\"Training...\")\n",
    "model.fit(flat_training_images,training_labels)\n",
    "print(\"Complete.\")\n",
    "lr_weight_mat = model.coef_\n",
    "lr_bias = model.intercept_"
   ]
  },
  {
   "cell_type": "code",
   "execution_count": 9,
   "metadata": {},
   "outputs": [
    {
     "name": "stdout",
     "output_type": "stream",
     "text": [
      "Optimal Logistic Regression scores\n",
      "Accuracy on Training Data:  0.9319333333333333\n",
      "Accuracy on Test Data:  0.9254\n"
     ]
    }
   ],
   "source": [
    "print(\"Optimal Logistic Regression scores\")\n",
    "print(\"Accuracy on Training Data: \",model.score(flat_training_images,training_labels))\n",
    "print(\"Accuracy on Test Data: \",model.score(flat_test_images,test_labels))"
   ]
  },
  {
   "cell_type": "code",
   "execution_count": 10,
   "metadata": {},
   "outputs": [],
   "source": [
    "#Library for neural networks\n",
    "import tensorflow as tf"
   ]
  },
  {
   "cell_type": "code",
   "execution_count": 11,
   "metadata": {},
   "outputs": [],
   "source": [
    "'''\n",
    "MODE=0 creates a network that has no hidden layers\n",
    "directly mapping from input to output.\n",
    "\n",
    "MODE=1 creates a feed forward neural network \n",
    "with 2 hidden layers.\n",
    "'''\n",
    "MODE = 0\n",
    "\n",
    "#Placeholder for image data (# of images x pixel values)\n",
    "x = tf.placeholder(tf.float32,shape=[None,784])\n",
    "#Placeholder for labels (# of images x # of classes)\n",
    "y = tf.placeholder(tf.float32,shape=[None,10])\n",
    "\n",
    "if(MODE==0):\n",
    "    #Singly fully connected layer to output\n",
    "    USE_LR = False\n",
    "    if(not USE_LR):\n",
    "        initial_weight = tf.truncated_normal([784,10],stddev=0.1)\n",
    "        initial_bias = tf.constant(0.0,shape=[10])\n",
    "    else:\n",
    "        initial_weight = lr_weight_mat.T.astype('float32')\n",
    "        initial_bias = lr_bias.astype('float32')\n",
    "    weight_mat = tf.Variable(initial_weight)\n",
    "    bias = tf.Variable(initial_bias)\n",
    "    out = tf.matmul(x,weight_mat)+bias"
   ]
  },
  {
   "cell_type": "code",
   "execution_count": 63,
   "metadata": {},
   "outputs": [],
   "source": [
    "'''\n",
    "These functions return parameters for our network.\n",
    "These are variables that can modified during the training process.\n",
    "These functions also serve to provide the necessary initial values.\n",
    "'''\n",
    "def weight_variable(shape):\n",
    "    initial = tf.truncated_normal(shape,stddev=0.1)\n",
    "    return tf.Variable(initial)\n",
    "\n",
    "def bias_variable(shape):\n",
    "    initial = tf.constant(0.0,shape=shape)\n",
    "    return tf.Variable(initial)\n",
    "\n",
    "'''\n",
    "This method returns the outputs resulting from a fully connected layer.\n",
    "inp contains the activations of the previous layer.\n",
    "inp_dim: # of neurons in input layer, out_dim: # of neurons in this layer.\n",
    "'''\n",
    "def fully_connected(inp,inp_dim,out_dim,activation=None):\n",
    "    weight_matrix = weight_variable([inp_dim,out_dim])\n",
    "    bias = bias_variable([out_dim])\n",
    "    raw = tf.matmul(inp,weight_matrix)+bias\n",
    "    if(activation):\n",
    "        return ______(raw)\n",
    "    else:\n",
    "        return raw"
   ]
  },
  {
   "cell_type": "code",
   "execution_count": 13,
   "metadata": {},
   "outputs": [],
   "source": [
    "if(MODE==1):\n",
    "    #1st hidden layer has 100 neurons\n",
    "    h1 = fully_connected(inp=x,inp_dim=784,out_dim=100,activation=tf.nn.relu)\n",
    "    #2nd hidden layer has 50 neurons\n",
    "    h2 = fully_connected(inp=h1,inp_dim=100,out_dim=50,activation=tf.nn.relu)\n",
    "    #Final layer maps to output 10 neurons for 10 classes\n",
    "    out= fully_connected(inp=h2,inp_dim=50,out_dim=10)"
   ]
  },
  {
   "cell_type": "code",
   "execution_count": 14,
   "metadata": {},
   "outputs": [],
   "source": [
    "#Cross entropy loss applied after using softmax activation\n",
    "loss = tf.reduce_mean(tf.nn.softmax_cross_entropy_with_logits_v2(labels=y,logits=out))"
   ]
  },
  {
   "cell_type": "code",
   "execution_count": 15,
   "metadata": {},
   "outputs": [
    {
     "name": "stdout",
     "output_type": "stream",
     "text": [
      "[-1, 0, 1, 2] -> [0.032, 0.087, 0.237, 0.644]\n",
      "[-3, 3, 3] -> [0.001, 0.499, 0.499]\n"
     ]
    },
    {
     "data": {
      "image/png": "[encoded data removed]",
      "text/plain": [
       "<Figure size 432x288 with 1 Axes>"
      ]
     },
     "metadata": {
      "needs_background": "light"
     },
     "output_type": "display_data"
    },
    {
     "name": "stdout",
     "output_type": "stream",
     "text": [
      "Cross Entropy Loss (Blue T=1) (Orange T=0)\n"
     ]
    }
   ],
   "source": [
    "'''\n",
    "Understanding 'softmax_cross_entropy_with_logits_v2'\n",
    "Softmax function takes a vector of inputs and maps\n",
    "it to a probability distribution.  Note this is also\n",
    "what is used in multinomial logistic regression!\n",
    "'''\n",
    "def softmax(v):\n",
    "    all_pos = np.exp(v)\n",
    "    normalized = all_pos/sum(all_pos)\n",
    "    return [round(i,3) for i in normalized]\n",
    "\n",
    "ex_1 = [-1,0,1,2]\n",
    "ex_2 = [-3,3,3]\n",
    "print(f\"{ex_1} -> {softmax(ex_1)}\")\n",
    "print(f\"{ex_2} -> {softmax(ex_2)}\")\n",
    "\n",
    "#Visualization of cross entropy loss\n",
    "spec = np.arange(start=0.01,stop=1,step=0.01)\n",
    "plt.plot(spec,-np.log(spec))\n",
    "plt.plot(spec,-np.log(1-spec))\n",
    "plt.show()\n",
    "print(\"Cross Entropy Loss (Blue T=1) (Orange T=0)\")"
   ]
  },
  {
   "cell_type": "code",
   "execution_count": 16,
   "metadata": {},
   "outputs": [],
   "source": [
    "'''\n",
    "Adam optimizer performs gradient descent while\n",
    "also performing learning rate adaptation and\n",
    "handling class imbalance.  Note the latter\n",
    "is not a concern with MNIST.\n",
    "'''\n",
    "train_step = tf.train.AdamOptimizer(learning_rate=1e-4).minimize(loss)\n",
    "\n",
    "'''\n",
    "The network's prediction is the class it offers\n",
    "the highest probability and its accuracy is\n",
    "computed accordingly.\n",
    "'''\n",
    "correct_prediction = tf.equal(tf.argmax(out,axis=1),tf.argmax(y,axis=1))\n",
    "accuracy = tf.reduce_mean(tf.cast(correct_prediction,tf.float32))"
   ]
  },
  {
   "cell_type": "code",
   "execution_count": 17,
   "metadata": {},
   "outputs": [],
   "source": [
    "'''Initializing session and parameters'''\n",
    "#Initialize tensorflow session\n",
    "sess = tf.InteractiveSession()\n",
    "#Parameters assigned initial values\n",
    "sess.run(tf.global_variables_initializer())"
   ]
  },
  {
   "cell_type": "code",
   "execution_count": 20,
   "metadata": {
    "scrolled": true
   },
   "outputs": [
    {
     "name": "stdout",
     "output_type": "stream",
     "text": [
      "Training Loss: 3.06  Accuracy: 0.883\n",
      "Validation Loss: 3.69  Accuracy: 0.88\n",
      "Epoch  1\n",
      "Batch 5000\n",
      "Training Loss: 2.97  Accuracy: 0.882\n",
      "Validation Loss: 3.6  Accuracy: 0.879\n",
      "Epoch  2\n",
      "Batch 5000\n",
      "Training Loss: 2.87  Accuracy: 0.882\n",
      "Validation Loss: 3.56  Accuracy: 0.879\n",
      "Epoch  3\n",
      "Batch 5000\n",
      "Training Loss: 2.7  Accuracy: 0.887\n",
      "Validation Loss: 3.37  Accuracy: 0.883\n",
      "Epoch  4\n",
      "Batch 5000\n",
      "Training Loss: 2.72  Accuracy: 0.882\n",
      "Validation Loss: 3.37  Accuracy: 0.879\n",
      "Epoch  5\n",
      "Batch 5000\n",
      "Training Loss: 2.56  Accuracy: 0.886\n",
      "Validation Loss: 3.25  Accuracy: 0.88\n",
      "Epoch  6\n",
      "Batch 5000\n",
      "Training Loss: 2.53  Accuracy: 0.883\n",
      "Validation Loss: 3.19  Accuracy: 0.88\n",
      "Epoch  7\n",
      "Batch 5000\n",
      "Training Loss: 2.46  Accuracy: 0.884\n",
      "Validation Loss: 3.13  Accuracy: 0.88\n",
      "Epoch  8\n",
      "Batch 5000\n",
      "Training Loss: 2.38  Accuracy: 0.886\n",
      "Validation Loss: 3.08  Accuracy: 0.879\n",
      "Epoch  9\n",
      "Batch 5000\n",
      "Training Loss: 2.4  Accuracy: 0.881\n",
      "Validation Loss: 3.06  Accuracy: 0.875\n",
      "Epoch  10\n",
      "Batch 5000\n",
      "Training Loss: 2.13  Accuracy: 0.891\n",
      "Validation Loss: 2.86  Accuracy: 0.882\n",
      "Epoch  11\n",
      "Batch 5000\n",
      "Training Loss: 2.44  Accuracy: 0.872\n",
      "Validation Loss: 3.1  Accuracy: 0.867\n"
     ]
    },
    {
     "data": {
      "image/png": "[encoded data removed]",
      "text/plain": [
       "<Figure size 432x288 with 2 Axes>"
      ]
     },
     "metadata": {
      "needs_background": "light"
     },
     "output_type": "display_data"
    }
   ],
   "source": [
    "'''TRAINING'''\n",
    "\n",
    "#Separating 10000 validation images from training set\n",
    "training_data, val_data = flat_training_images[:50000],flat_training_images[50000:]\n",
    "t_labels, v_labels = one_hot_training_labels[:50000],one_hot_training_labels[50000:]\n",
    "\n",
    "#Maximum number of epochs to run\n",
    "EPOCHS = 20\n",
    "#Number of images to consider at once while training\n",
    "batch_size = 10\n",
    "num_batches = len(training_data)//batch_size\n",
    "\n",
    "#Keep track of loss and accuracy for graphing\n",
    "performance = {'t_l':[],'t_a':[],'v_l':[],'v_a':[]}\n",
    "\n",
    "'''\n",
    "Evaluate loss and accuracy on training and validation \n",
    "sets.  Additionally append metrics to performance tracker.\n",
    "'''\n",
    "def eval_performance():\n",
    "    l,a = sess.run([loss,accuracy],feed_dict={x:training_data,y:t_labels})\n",
    "    performance['t_l'].append(l)\n",
    "    performance['t_a'].append(a)\n",
    "    print(f\"Training Loss: {l:.3}  Accuracy: {a:.3}\")\n",
    "    l,a = sess.run([loss,accuracy],feed_dict={x:val_data,y:v_labels})\n",
    "    performance['v_l'].append(l)\n",
    "    performance['v_a'].append(a)\n",
    "    print(f\"Validation Loss: {l:.3}  Accuracy: {a:.3}\")\n",
    "\n",
    "for e in range(EPOCHS):\n",
    "    #Before beginning the epoch evaluate performance\n",
    "    eval_performance()\n",
    "    '''\n",
    "    Early stopping.  When validation performance significantly drops\n",
    "    we know the model is overfitting.  Note the training loss will\n",
    "    likely continue to go down.\n",
    "    '''\n",
    "    if(len(performance['v_l'])>2 and performance['v_l'][-1] > performance['v_l'][-3]):\n",
    "        EPOCHS = e+1\n",
    "        break\n",
    "    print(\"Epoch \",e+1)\n",
    "    #Pass through the whole training dataset once\n",
    "    for b in range(num_batches):\n",
    "        print(f\"Batch {b+1}\",end = '\\r')\n",
    "        images = flat_training_images[b*batch_size:(b+1)*batch_size]\n",
    "        labels = one_hot_training_labels[b*batch_size:(b+1)*batch_size]\n",
    "        sess.run(train_step,feed_dict={x:images,y:labels})\n",
    "    print()\n",
    "\n",
    "'''    \n",
    "Plot loss for training and validation sets over the\n",
    "epochs.  Note the first item is left out in both of\n",
    "these as prior to any training, loss will be wildly\n",
    "high and accuracy will be very low.  Doing this\n",
    "allows us to zoom in on the interesting part.\n",
    "'''\n",
    "plt.subplot(121)\n",
    "plt.title(\"Loss\")\n",
    "plt.plot(range(EPOCHS-1),performance['t_l'][1:])\n",
    "plt.plot(range(EPOCHS-1),performance['v_l'][1:])\n",
    "plt.legend(['Training','Validation'])\n",
    "\n",
    "plt.subplot(122)\n",
    "plt.title(\"Accuracy\")\n",
    "plt.plot(range(EPOCHS-1),performance['t_a'][1:])\n",
    "plt.plot(range(EPOCHS-1),performance['v_a'][1:])\n",
    "plt.legend(['Training','Validation'])\n",
    "\n",
    "plt.show()"
   ]
  },
  {
   "cell_type": "code",
   "execution_count": 19,
   "metadata": {},
   "outputs": [
    {
     "name": "stdout",
     "output_type": "stream",
     "text": [
      "Final Test Accuracy:\n",
      "0.8712\n"
     ]
    }
   ],
   "source": [
    "print(\"Final Test Accuracy:\")\n",
    "print(sess.run(accuracy,feed_dict={x:flat_test_images,y:one_hot_test_labels}))"
   ]
  },
  {
   "cell_type": "code",
   "execution_count": 18,
   "metadata": {},
   "outputs": [
    {
     "name": "stdout",
     "output_type": "stream",
     "text": [
      "Done!\n"
     ]
    }
   ],
   "source": [
    "'''\n",
    "Note: State of the art MNIST is about 99.8% on test data.\n",
    "Granted they used a number of complex tricks to perform\n",
    "this level of optimization.  But the the key difference\n",
    "between what we did here and the best models is something\n",
    "we'll get to later in this course.\n",
    "'''\n",
    "print(\"Done!\")"
   ]
  }
 ],
 "metadata": {
  "kernelspec": {
   "display_name": "Python 3",
   "language": "python",
   "name": "python3"
  },
  "language_info": {
   "codemirror_mode": {
    "name": "ipython",
    "version": 3
   },
   "file_extension": ".py",
   "mimetype": "text/x-python",
   "name": "python",
   "nbconvert_exporter": "python",
   "pygments_lexer": "ipython3",
   "version": "3.6.8rc1"
  }
 },
 "nbformat": 4,
 "nbformat_minor": 2
}
